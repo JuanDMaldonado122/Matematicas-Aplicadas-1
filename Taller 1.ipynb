{
  "nbformat": 4,
  "nbformat_minor": 0,
  "metadata": {
    "colab": {
      "provenance": [],
      "authorship_tag": "ABX9TyMG9iWXNPw2U0PJPA82mJuG",
      "include_colab_link": true
    },
    "kernelspec": {
      "name": "python3",
      "display_name": "Python 3"
    },
    "language_info": {
      "name": "python"
    }
  },
  "cells": [
    {
      "cell_type": "markdown",
      "metadata": {
        "id": "view-in-github",
        "colab_type": "text"
      },
      "source": [
        "<a href=\"https://colab.research.google.com/github/JuanDMaldonado122/Matematicas-Aplicadas-1/blob/main/Taller%201.ipynb\" target=\"_parent\"><img src=\"https://colab.research.google.com/assets/colab-badge.svg\" alt=\"Open In Colab\"/></a>"
      ]
    },
    {
      "cell_type": "markdown",
      "source": [
        "#Taller1 Practica de escritura"
      ],
      "metadata": {
        "id": "_OxauI42MP2y"
      }
    },
    {
      "cell_type": "markdown",
      "source": [
        "#1."
      ],
      "metadata": {
        "id": "newYYuL2VZ0n"
      }
    },
    {
      "cell_type": "markdown",
      "source": [
        "**1. Area lateral de un cilindro**\n",
        "\n",
        "$A=2\\pi rg$\n",
        "\n",
        "$r=\\frac{A}{2\\pi g}$\n",
        "\n",
        "**2. Volumen del cono**\n",
        "\n",
        "$V=\\frac{A_B\\cdot h}{3}$\n",
        "\n",
        "$h=\\frac{3V}{A_B}$\n",
        "\n",
        "**3. Volumen de la esfera**\n",
        "\n",
        "$V=\\frac{4}{3}\\cdot \\pi \\cdot r^3$\n",
        "\n",
        "$r=  \\sqrt[3]{\\frac{V}{\\frac{4}{3}\\pi}}$\n",
        "\n",
        "**4. Area del trapecio**\n",
        "\n",
        "$ A= \\frac{(B + b)}{2} \\cdot h$\n",
        "\n",
        "$h = \\frac{2A}{B + b}$\n",
        "\n",
        "**5. Intensidad electrica**\n",
        "\n",
        "$I = \\frac{q}{t}$\n",
        "\n",
        "$t = \\frac{q}{I}$\n",
        "\n",
        "**6. Ley de Ohm**\n",
        "\n",
        "$I = \\frac{V}{R}$\n",
        "\n",
        "$R = \\frac{V}{I}$\n",
        "\n",
        "**7. Energia electrica**\n",
        "\n",
        "$E = \\frac{V^2}{R} \\cdot t$\n",
        "\n",
        "$t = \\frac{E R}{V^2}$\n",
        "\n",
        "**8. Resistencias en paralelo**\n",
        "\n",
        "$\\frac{1}{R} = \\frac{1}{R_1} + \\frac{1}{R_2}$\n",
        "\n",
        "$R = \\left( \\frac{1}{R_1} + \\frac{1}{R_2} \\right)^{-1}$\n",
        "\n",
        "**9.Ecuacion de gases perfectos**\n",
        "\n",
        "$\\frac{P_0 V_0}{T_0} = \\frac{P_f V_f}{T_f}$\n",
        "\n",
        "$P_f = \\frac{P_0 V_0 T_f}{T_0 V_f}$\n",
        "\n",
        "**10. Intensidad electrica**\n",
        "\n",
        "$I = \\frac{V_A - V_B}{R}$\n",
        "\n",
        "$V_B = V_A - I R$"
      ],
      "metadata": {
        "id": "DIC1vkUDXFRB"
      }
    },
    {
      "cell_type": "markdown",
      "source": [
        "#2."
      ],
      "metadata": {
        "id": "XXlHjPyeUciz"
      }
    },
    {
      "cell_type": "code",
      "source": [
        "resultado1 = (3 * (-5 + 10 + (-5)) - 2 * ((-2) + (-4) + 10)) ** 2\n",
        "print(resultado1)\n",
        "\n",
        "resultado2=45+(2*(2+8)-8/4)+10-83\n",
        "print(resultado2)\n",
        "\n",
        "resultado3=((-4+7)*2-10)*(-4)-7-3\n",
        "print(resultado3)"
      ],
      "metadata": {
        "id": "bamSiVJRUHCC",
        "outputId": "f761d051-2ace-4a92-b2cb-275268270384",
        "colab": {
          "base_uri": "https://localhost:8080/"
        }
      },
      "execution_count": 9,
      "outputs": [
        {
          "output_type": "stream",
          "name": "stdout",
          "text": [
            "64\n",
            "-10.0\n",
            "6\n"
          ]
        }
      ]
    },
    {
      "cell_type": "markdown",
      "source": [
        "#3."
      ],
      "metadata": {
        "id": "DZZfMjZZUppW"
      }
    },
    {
      "cell_type": "code",
      "source": [
        "result1=1/5*(((1/2)**2)+((3/4)**2))+10/25*(((1/2)**2)+((3/4)**2))+8/40*(((1/2)**2)+((3/4)**2))\n",
        "print(result1)\n",
        "\n",
        "result2=(9/4*(6/8)**-1)-(5/2*(25/20)**-1)+(40/8*(20/16)**-1)\n",
        "print(result2)"
      ],
      "metadata": {
        "id": "dx0eLHm_UeUK",
        "outputId": "109a4273-d543-4a88-a491-d2c02c7df6e8",
        "colab": {
          "base_uri": "https://localhost:8080/"
        }
      },
      "execution_count": 14,
      "outputs": [
        {
          "output_type": "stream",
          "name": "stdout",
          "text": [
            "0.65\n",
            "5.0\n"
          ]
        }
      ]
    },
    {
      "cell_type": "markdown",
      "source": [
        "#4."
      ],
      "metadata": {
        "id": "SRhEZMfkMYzn"
      }
    },
    {
      "cell_type": "code",
      "source": [
        "print(\"Buenos días\")\n",
        "\n",
        "nombre=input(\"Cual es tu nombre?: \")\n",
        "print(f\"Listo {nombre}, vamos a sacar tu IMC\")\n",
        "\n",
        "peso=int(input(\"Cual es tu peso en kg?: \"))\n",
        "estatura=int(input(\"Cual es tu estatura en cm?: \"))\n",
        "\n",
        "def calcularIMC(peso,estatura):\n",
        "\n",
        "  estatura=estatura/100\n",
        "  imc=peso/(estatura**2)\n",
        "  return imc\n",
        "\n",
        "imc= calcularIMC(peso,estatura)\n",
        "\n",
        "print(f\"{nombre}, tu IMC es de {imc:.2f}\")\n"
      ],
      "metadata": {
        "id": "fE88gA383YgD",
        "outputId": "d92bca86-12ad-49da-a594-4ea0f6ea9063",
        "colab": {
          "base_uri": "https://localhost:8080/"
        }
      },
      "execution_count": 17,
      "outputs": [
        {
          "output_type": "stream",
          "name": "stdout",
          "text": [
            "Buenos días\n",
            "Cual es tu nombre?: Juan David\n",
            "Listo Juan David, vamos a sacar tu IMC\n",
            "Cual es tu peso en kg?: 23\n",
            "Cual es tu estatura en cm?: 67\n",
            "Juan David, tu IMC es de 51.24\n"
          ]
        }
      ]
    },
    {
      "cell_type": "markdown",
      "source": [
        "#5."
      ],
      "metadata": {
        "id": "g2VUnZ8kTv7H"
      }
    },
    {
      "cell_type": "code",
      "source": [
        "print(\"Vamos a calcular la suma, resta, multiplicacion y division de dos numeros\")\n",
        "\n",
        "num1=int(input(\"Ingrese el primer numero: \"))\n",
        "num2=int(input(\"Ingrese el segundo numero: \"))\n",
        "\n",
        "print(f\"\\nLa suma de los numeros es: {num1+num2}\")\n",
        "print(f\"La resta de los numeros es: {num1-num2}\")\n",
        "print(f\"La multiplicacion de los numeros es: {num1*num2}\")\n",
        "print(f\"La division de los numeros es: {num1/num2}\")"
      ],
      "metadata": {
        "id": "rmpSQoNEQZoC",
        "outputId": "4fa42072-3b1e-45a3-f617-997ae24c06bb",
        "colab": {
          "base_uri": "https://localhost:8080/"
        }
      },
      "execution_count": 6,
      "outputs": [
        {
          "output_type": "stream",
          "name": "stdout",
          "text": [
            "Vamos a calcular la suma, resta, multiplicacion y division de dos numeros\n",
            "Ingrese el primer numero: 12\n",
            "Ingrese el segundo numero: 3\n",
            "\n",
            "La suma de los numeros es: 15\n",
            "La resta de los numeros es: 9\n",
            "La multiplicacion de los numeros es: 36\n",
            "La division de los numeros es: 4.0\n"
          ]
        }
      ]
    },
    {
      "cell_type": "markdown",
      "source": [
        "#6."
      ],
      "metadata": {
        "id": "c1KzxwUiTxuO"
      }
    },
    {
      "cell_type": "code",
      "source": [
        "barril_petroleo = [77.88, 78.31, 77.22, 76.71, 75.45, 77.17, 76.90]\n",
        "\n",
        "litro_cocacola = 0.96\n",
        "\n",
        "barril_cocacola = litro_cocacola * 159\n",
        "print(f\"Precio de un barril de Coca-Cola: ${barril_cocacola:.2f} USD\")\n",
        "\n",
        "relacion_precio = [precio_petroleo / barril_cocacola for precio_petroleo in barril_petroleo]\n",
        "print(f\"Relación del precio del barril de petróleo vs barril de Coca-Cola: {relacion_precio}\")\n",
        "\n",
        "conclusiones = \"\"\"Analizando la información que se obtiene de la comparación, es fácil concluir que el precio del barril de Cocacola es considerablemente\n",
        "más alto que el precio del barril de petróleo. La diferencia de precios tiene una razón de ser, puesto que mientras que el petróleo es\n",
        "una materia prima que se vende mecánicamente, la Cocacola es un producto que requiere varios procesos antes de ser vendido, por ejemplo,\n",
        "el marketing, empaque o costo de personal. Además, la Coca-Cola es un producto de consumo final con un valor añadido considerable, mientras\n",
        "que el petróleo es una materia prima que requiere procesamiento adicional para convertirse en productos utilizables.\n",
        "\"\"\"\n",
        "\n",
        "print(\"\\nConclusiones:\")\n",
        "print(conclusiones)"
      ],
      "metadata": {
        "id": "hOPeHcwpWa3L",
        "outputId": "e2713c9c-1a2c-425a-c4c2-24e9316aaac9",
        "colab": {
          "base_uri": "https://localhost:8080/"
        }
      },
      "execution_count": 16,
      "outputs": [
        {
          "output_type": "stream",
          "name": "stdout",
          "text": [
            "Precio de un barril de Coca-Cola: $152.64 USD\n",
            "Relación del precio del barril de petróleo vs barril de Coca-Cola: [0.5102201257861635, 0.513037211740042, 0.5058962264150944, 0.5025550314465409, 0.49430031446540884, 0.5055686582809225, 0.5037997903563942]\n",
            "\n",
            "Conclusiones:\n",
            "Analizando la información que se obtiene de la comparación, es fácil concluir que el precio del barril de Cocacola es considerablemente \n",
            "más alto que el precio del barril de petróleo. La diferencia de precios tiene una razón de ser, puesto que mientras que el petróleo es \n",
            "una materia prima que se vende mecánicamente, la Cocacola es un producto que requiere varios procesos antes de ser vendido, por ejemplo, \n",
            "el marketing, empaque o costo de personal. Además, la Coca-Cola es un producto de consumo final con un valor añadido considerable, mientras \n",
            "que el petróleo es una materia prima que requiere procesamiento adicional para convertirse en productos utilizables.\n",
            "\n"
          ]
        }
      ]
    }
  ]
}