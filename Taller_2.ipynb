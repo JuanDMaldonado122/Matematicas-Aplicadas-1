{
  "nbformat": 4,
  "nbformat_minor": 0,
  "metadata": {
    "colab": {
      "provenance": [],
      "authorship_tag": "ABX9TyN3LsTzrT4beNMBvvXWcvYf",
      "include_colab_link": true
    },
    "kernelspec": {
      "name": "python3",
      "display_name": "Python 3"
    },
    "language_info": {
      "name": "python"
    }
  },
  "cells": [
    {
      "cell_type": "markdown",
      "metadata": {
        "id": "view-in-github",
        "colab_type": "text"
      },
      "source": [
        "<a href=\"https://colab.research.google.com/github/JuanDMaldonado122/Matematicas-Aplicadas-1/blob/main/Taller_2.ipynb\" target=\"_parent\"><img src=\"https://colab.research.google.com/assets/colab-badge.svg\" alt=\"Open In Colab\"/></a>"
      ]
    },
    {
      "cell_type": "markdown",
      "source": [
        "#Taller 2\n",
        "\n",
        "Juan David Maldonado -----> A00410587\n",
        "\n",
        "Mateo Cuenca ------------------> A00410648\n",
        "\n",
        "Isabella Gonzalez -------------> A00411108\n",
        "\n",
        "Manuela Calero ----------------> A00409149         "
      ],
      "metadata": {
        "id": "rJzy27_YRSnD"
      }
    },
    {
      "cell_type": "markdown",
      "source": [
        "#1."
      ],
      "metadata": {
        "id": "1xFGGJGMZaLT"
      }
    },
    {
      "cell_type": "code",
      "source": [
        "def es_primo(num):\n",
        "    if num <= 1:\n",
        "        return False\n",
        "    for i in range(2, int(num**0.5) + 1):\n",
        "        if num % i == 0:\n",
        "            return False\n",
        "    return True\n",
        "\n",
        "def filtrar_primos(lista):\n",
        "    primos = []\n",
        "    for num in lista:\n",
        "        if es_primo(num):\n",
        "            primos.append(num)\n",
        "    return primos\n",
        "\n",
        "print(\"Recibimos una lista de números y devolvemos una nueva lista solo con los números primos:\")\n",
        "datos = int(input(\"Cuántos datos va a ingresar: \"))\n",
        "numeros = []\n",
        "for i in range(datos):\n",
        "    numero = int(input(f\"Introduce el número {i + 1}: \"))\n",
        "    numeros.append(numero)\n",
        "\n",
        "primos = filtrar_primos(numeros)\n",
        "print(f\"Lista de números primos: {primos}\")"
      ],
      "metadata": {
        "colab": {
          "base_uri": "https://localhost:8080/"
        },
        "id": "b4ynZNkLZghj",
        "outputId": "ec580460-94e4-462b-97c8-ce49a4d2228c"
      },
      "execution_count": null,
      "outputs": [
        {
          "output_type": "stream",
          "name": "stdout",
          "text": [
            "Recibimos una lista de números y devolvemos una nueva lista solo con los números primos:\n",
            "Cuántos datos va a ingresar: 4\n",
            "Introduce el número 1: 3\n",
            "Introduce el número 2: 6\n",
            "Introduce el número 3: 11\n",
            "Introduce el número 4: 19\n",
            "Lista de números primos: [3, 11, 19]\n"
          ]
        }
      ]
    },
    {
      "cell_type": "markdown",
      "source": [
        "#2."
      ],
      "metadata": {
        "id": "uCBUZKNtZhMn"
      }
    },
    {
      "cell_type": "code",
      "execution_count": null,
      "metadata": {
        "colab": {
          "base_uri": "https://localhost:8080/"
        },
        "id": "QtvXVIFKLwP5",
        "outputId": "de74d1ce-a21a-409c-c826-1eeaadfb38d0"
      },
      "outputs": [
        {
          "output_type": "stream",
          "name": "stdout",
          "text": [
            "Digita los numeros de la lista separados por comas: 2,5,3\n",
            "Esta es la lista 1:  [2, 5, 3]\n",
            "Digita los numeros de la lista separados por comas:  3,6,2\n",
            "Esta es la lista 2:  [3, 6, 2]\n",
            "Estos son los elementos repetidos:  [2, 3]\n"
          ]
        }
      ],
      "source": [
        "\n",
        "num1= input(\"Digita los numeros de la lista separados por comas: \")\n",
        "numbers = num1.split(',')\n",
        "lis1 = [int(num) for num in numbers]\n",
        "print(\"Esta es la lista 1: \", lis1)\n",
        "\n",
        "num2= input(\"Digita los numeros de la lista separados por comas:  \")\n",
        "numbers = num2.split(',')\n",
        "lis2 = [int(num) for num in numbers]\n",
        "print(\"Esta es la lista 2: \", lis2)\n",
        "\n",
        "\n",
        "def ElementosRep(lis1, lis2):\n",
        "\n",
        "  lisrep=[]\n",
        "\n",
        "  for i in lis1:\n",
        "    if i in lis2:\n",
        "      lisrep.append(i)\n",
        "  return lisrep\n",
        "\n",
        "print(\"Estos son los elementos repetidos: \", ElementosRep(lis1, lis2))"
      ]
    },
    {
      "cell_type": "markdown",
      "source": [
        "#3."
      ],
      "metadata": {
        "id": "9BiiYtZqUjuv"
      }
    },
    {
      "cell_type": "code",
      "source": [
        "import numpy as np\n",
        "\n",
        "lista=[]\n",
        "longitudLista=int(input(\"Por favor ingrese la longitud de la lista (Maximo 15, minimo 4): \"))\n",
        "\n",
        "if longitudLista <=3 or longitudLista > 15:\n",
        "\n",
        "  print(\"Error, la lista es maximo 15 numeros y al menos tener 4 valores \")\n",
        "  exit()\n",
        "\n",
        "raiz = int(np.sqrt(longitudLista))\n",
        "\n",
        "if raiz * raiz != longitudLista:\n",
        "  print(\"Error: La cantidad de elementos no permite formar una matriz cuadrada.\")\n",
        "  exit()\n",
        "\n",
        "for i in range (longitudLista):\n",
        "  num=int(input(\"Digite un numero para agregar a la lista: \"))\n",
        "  lista.append(num)\n",
        "\n",
        "print(\"La lista que usted creo es la siguiente: \",lista)\n",
        "\n",
        "def listaToMatriz(listt, cuadrada):\n",
        "  matriz = np.array(listt).reshape(cuadrada,cuadrada)\n",
        "  return matriz\n",
        "print(listaToMatriz(lista,raiz))"
      ],
      "metadata": {
        "colab": {
          "base_uri": "https://localhost:8080/"
        },
        "id": "sCu61e60Uld_",
        "outputId": "e6cd860f-03fd-4ec2-ec75-16233e0a1b52"
      },
      "execution_count": null,
      "outputs": [
        {
          "output_type": "stream",
          "name": "stdout",
          "text": [
            "Por favor ingrese la longitud de la lista (Maximo 15, minimo 4): 4\n",
            "Digite un numero para agregar a la lista: 3\n",
            "Digite un numero para agregar a la lista: 5\n",
            "Digite un numero para agregar a la lista: 7\n",
            "Digite un numero para agregar a la lista: 2\n",
            "La lista que usted creo es la siguiente:  [3, 5, 7, 2]\n",
            "[[3 5]\n",
            " [7 2]]\n"
          ]
        }
      ]
    },
    {
      "cell_type": "markdown",
      "source": [
        "#4."
      ],
      "metadata": {
        "id": "x8y5_ViNUuRj"
      }
    },
    {
      "cell_type": "code",
      "source": [
        "import numpy as np\n",
        "\n",
        "def calcular_estadisticas(numeros):\n",
        "\n",
        "    media = np.mean(numeros)\n",
        "    mediana = np.median(numeros)\n",
        "    moda = np.bincount(numeros).argmax()\n",
        "\n",
        "    return media, mediana, moda\n",
        "numeros = [1, 2, 2, 3, 4, 5, 5, 5]\n",
        "calcular_estadisticas(numeros)"
      ],
      "metadata": {
        "id": "B2_tEBHKUxhm",
        "colab": {
          "base_uri": "https://localhost:8080/"
        },
        "outputId": "f395e3a3-00bd-40da-f520-b8d3cc7ced9c"
      },
      "execution_count": null,
      "outputs": [
        {
          "output_type": "execute_result",
          "data": {
            "text/plain": [
              "(3.375, 3.5, 5)"
            ]
          },
          "metadata": {},
          "execution_count": 2
        }
      ]
    },
    {
      "cell_type": "markdown",
      "source": [
        "#5."
      ],
      "metadata": {
        "id": "xakcLkjzVYlO"
      }
    },
    {
      "cell_type": "code",
      "source": [
        "import numpy as np\n",
        "\n",
        "def calcular_total_pagar(precios, cantidades):\n",
        "\n",
        "    total = np.sum(precios * cantidades)\n",
        "\n",
        "    if total > 100:\n",
        "        total *= 0.9\n",
        "    else:\n",
        "      print(\"No aplica el descuento\")\n",
        "\n",
        "\n",
        "    return total\n",
        "precios= 80\n",
        "cantidades= 20\n",
        "calcular_total_pagar(precios, cantidades)"
      ],
      "metadata": {
        "colab": {
          "base_uri": "https://localhost:8080/"
        },
        "id": "oAnJ7cPiVaJv",
        "outputId": "3b5d3de9-7904-4d8b-fdbc-dc4e03bdfd55"
      },
      "execution_count": null,
      "outputs": [
        {
          "output_type": "execute_result",
          "data": {
            "text/plain": [
              "1440.0"
            ]
          },
          "metadata": {},
          "execution_count": 3
        }
      ]
    },
    {
      "cell_type": "markdown",
      "source": [
        "#6."
      ],
      "metadata": {
        "id": "cBfzvIo8VrrY"
      }
    },
    {
      "cell_type": "code",
      "source": [
        "import numpy as np\n",
        "\n",
        "def actualizar_inventario(inventario, vendidos):\n",
        "\n",
        "    for producto in vendidos:\n",
        "        if producto in inventario:\n",
        "            inventario.remove(producto)\n",
        "\n",
        "    return inventario\n",
        "\n",
        "inventario = [\"manzana\", \"banana\", \"naranja\", \"pera\"]\n",
        "vendidos = [\"banana\", \"naranja\"]\n",
        "actualizar_inventario(inventario, vendidos)"
      ],
      "metadata": {
        "colab": {
          "base_uri": "https://localhost:8080/"
        },
        "id": "KJfN0rC4VsEM",
        "outputId": "c8c37361-1ff2-4acf-ac71-54da8d0589b7"
      },
      "execution_count": null,
      "outputs": [
        {
          "output_type": "execute_result",
          "data": {
            "text/plain": [
              "['manzana', 'pera']"
            ]
          },
          "metadata": {},
          "execution_count": 4
        }
      ]
    },
    {
      "cell_type": "markdown",
      "source": [
        "#7."
      ],
      "metadata": {
        "id": "RO7wjYx3Vyfl"
      }
    },
    {
      "cell_type": "code",
      "source": [
        "import numpy as np\n",
        "\n",
        "tempts=[]\n",
        "longitudLista=int(input(\"Por favor ingrese la cantidad de temperaturas que va a agregar a la lista (Maximo 10 y minimo 1): \"))\n",
        "\n",
        "if longitudLista <=0 or longitudLista > 10:\n",
        "\n",
        "  print(\"Error, la lista es maximo 10 numeros y al menos tener 1 valores \")\n",
        "  exit()\n",
        "for i in range (longitudLista):\n",
        "  num=int(input(\"Digite un numero para agregar a la lista: \"))\n",
        "  tempts.append(num)\n",
        "\n",
        "print(\"La lista que usted creo es la siguiente: \",tempts)\n",
        "\n",
        "def clasificar_temperaturas(temperaturas):\n",
        "    temperaturas = np.array(temperaturas)  # Convertimos la lista a un array de NumPy\n",
        "\n",
        "    dias_mas_30 = np.sum(temperaturas > 30)\n",
        "    dias_entre_20_30 = np.sum((temperaturas >= 20) & (temperaturas <= 30))\n",
        "    dias_menos_20 = np.sum(temperaturas < 20)\n",
        "\n",
        "    return {\n",
        "        \"Días por encima de 30°C\": dias_mas_30,\n",
        "        \"Días entre 20°C y 30°C\": dias_entre_20_30,\n",
        "        \"Días por debajo de 20°C\": dias_menos_20\n",
        "    }\n",
        "\n",
        "print(clasificar_temperaturas(tempts))"
      ],
      "metadata": {
        "id": "Y6gZ6ArJVzBH",
        "colab": {
          "base_uri": "https://localhost:8080/"
        },
        "outputId": "4e1eea71-1978-4ded-d336-40d664976e9b"
      },
      "execution_count": null,
      "outputs": [
        {
          "output_type": "stream",
          "name": "stdout",
          "text": [
            "Por favor ingrese la cantidad de temperaturas que va a agregar a la lista (Maximo 10 y minimo 1): 3\n",
            "Digite un numero para agregar a la lista: 34\n",
            "Digite un numero para agregar a la lista: 27\n",
            "Digite un numero para agregar a la lista: 29\n",
            "La lista que usted creo es la siguiente:  [34, 27, 29]\n",
            "{'Días por encima de 30°C': 1, 'Días entre 20°C y 30°C': 2, 'Días por debajo de 20°C': 0}\n"
          ]
        }
      ]
    },
    {
      "cell_type": "markdown",
      "source": [
        "#8."
      ],
      "metadata": {
        "id": "Sg3AsL-tV_Jy"
      }
    },
    {
      "cell_type": "code",
      "source": [
        "import numpy as np\n",
        "\n",
        "alimentos=[]\n",
        "calorias=[]\n",
        "\n",
        "longitudAlimentos=int(input(\"Por favor ingrese la cantidad de alimentos que va a agregar a la lista (Maximo 10 y minimo 1): \"))\n",
        "\n",
        "if longitudAlimentos <=0 or longitudAlimentos > 10:\n",
        "\n",
        "  print(\"Error, la lista es maximo 10 numeros y al menos tener 1 valores \")\n",
        "  exit()\n",
        "for i in range (longitudAlimentos):\n",
        "  alim=input(f\"Escriba el nombre del alimento {i+1} para agregar a la lista: \")\n",
        "  alim=alim.upper()\n",
        "  alimentos.append(alim)\n",
        "\n",
        "  cals=int(input(f\"Por favor ingrese la cantidad de calorias que contiene el producto {i+1}: \"))\n",
        "  calorias.append(cals)\n",
        "\n",
        "print(\"La listas que usted creo son las siguientes: \",alimentos,calorias)\n",
        "\n",
        "\n",
        "def calcular_calorias(alimentos, calorias):\n",
        "    calorias_array = np.array(calorias)\n",
        "    total_calorias = np.sum(calorias_array)\n",
        "\n",
        "    mensaje = f\"Total de calorías consumidas: {total_calorias} kcal.\"\n",
        "    if total_calorias > 2000:\n",
        "        mensaje += \" Has superado el límite recomendado de 2000 kcal.\"\n",
        "    else:\n",
        "        mensaje += \" Estás dentro del límite recomendado.\"\n",
        "\n",
        "    return mensaje\n",
        "\n",
        "resultado = calcular_calorias(alimentos, calorias)\n",
        "print(resultado)"
      ],
      "metadata": {
        "id": "NCeIehe6WA78",
        "colab": {
          "base_uri": "https://localhost:8080/"
        },
        "outputId": "f4d7bd9b-d3bb-4435-8812-50eff2aa5348"
      },
      "execution_count": null,
      "outputs": [
        {
          "output_type": "stream",
          "name": "stdout",
          "text": [
            "Por favor ingrese la cantidad de alimentos que va a agregar a la lista (Maximo 10 y minimo 1): 5\n",
            "Escriba el nombre del alimento 1 para agregar a la lista: Mango\n",
            "Por favor ingrese la cantidad de calorias que contiene el producto 1: 100\n",
            "Escriba el nombre del alimento 2 para agregar a la lista: Empanadas\n",
            "Por favor ingrese la cantidad de calorias que contiene el producto 2: 400\n",
            "Escriba el nombre del alimento 3 para agregar a la lista: Carne\n",
            "Por favor ingrese la cantidad de calorias que contiene el producto 3: 600\n",
            "Escriba el nombre del alimento 4 para agregar a la lista: Uvas\n",
            "Por favor ingrese la cantidad de calorias que contiene el producto 4: 50\n",
            "Escriba el nombre del alimento 5 para agregar a la lista: Queso\n",
            "Por favor ingrese la cantidad de calorias que contiene el producto 5: 40\n",
            "La listas que usted creo son las siguientes:  ['MANGO', 'EMPANADAS', 'CARNE', 'UVAS', 'QUESO'] [100, 400, 600, 50, 40]\n",
            "Total de calorías consumidas: 1190 kcal. Estás dentro del límite recomendado.\n"
          ]
        }
      ]
    },
    {
      "cell_type": "markdown",
      "source": [
        "#9."
      ],
      "metadata": {
        "id": "qz9N7ex2WMAC"
      }
    },
    {
      "cell_type": "code",
      "source": [
        "def promedio_y_meses_por_encima(ventas):\n",
        "    promedio = sum(ventas) / len(ventas)\n",
        "    meses_por_encima = sum(1 for venta in ventas if venta > promedio)\n",
        "\n",
        "    return promedio, meses_por_encima\n",
        "\n",
        "ventas_mensuales = []\n",
        "for i in range(12):\n",
        "    mensuales=float(input(f\"Cuántas ventas tuvo en el mes {i+1}: \"))\n",
        "    ventas_mensuales.append(mensuales)\n",
        "\n",
        "promedio, meses_por_encima = promedio_y_meses_por_encima(ventas_mensuales)\n",
        "print(f\"Promedio de ventas mensuales: {promedio}\")\n",
        "print(f\"Meses por encima del promedio: {meses_por_encima}\")"
      ],
      "metadata": {
        "id": "Pjxs5j6AWNu-",
        "colab": {
          "base_uri": "https://localhost:8080/"
        },
        "outputId": "9ed23357-ef28-43dd-a26b-8674a66e30d7"
      },
      "execution_count": null,
      "outputs": [
        {
          "output_type": "stream",
          "name": "stdout",
          "text": [
            "Cuántas ventas tuvo en el mes 1: 25\n",
            "Cuántas ventas tuvo en el mes 2: 30\n",
            "Cuántas ventas tuvo en el mes 3: 32\n",
            "Cuántas ventas tuvo en el mes 4: 40\n",
            "Cuántas ventas tuvo en el mes 5: 37\n",
            "Cuántas ventas tuvo en el mes 6: 41\n",
            "Cuántas ventas tuvo en el mes 7: 35\n",
            "Cuántas ventas tuvo en el mes 8: 38\n",
            "Cuántas ventas tuvo en el mes 9: 40\n",
            "Cuántas ventas tuvo en el mes 10: 34\n",
            "Cuántas ventas tuvo en el mes 11: 44\n",
            "Cuántas ventas tuvo en el mes 12: 59\n",
            "Promedio de ventas mensuales: 37.916666666666664\n",
            "Meses por encima del promedio: 6\n"
          ]
        }
      ]
    },
    {
      "cell_type": "markdown",
      "source": [
        "#10."
      ],
      "metadata": {
        "id": "M3iKbgGvZp-q"
      }
    },
    {
      "cell_type": "code",
      "source": [
        "total=float(input(\"Cual es el total de su compra?\"))\n",
        "\n",
        "while total<0:\n",
        "  print(\"El total no puede ser negativo\")\n",
        "  total=float(input(\"Cual es el total de su compra?\"))\n",
        "\n",
        "def descuento(total):\n",
        "  if 50000<=total<=100000:\n",
        "    return total*0.95\n",
        "\n",
        "  elif 100000<total<200000:\n",
        "    return total*0.9\n",
        "\n",
        "  elif total>=200000:\n",
        "    return total*0.85\n",
        "\n",
        "  else:\n",
        "    return total\n",
        "\n",
        "\n",
        "print(\"El total a pagar es: \", descuento(total))\n",
        "print(\"El descuento fue de: \", total-descuento(total))"
      ],
      "metadata": {
        "colab": {
          "base_uri": "https://localhost:8080/"
        },
        "id": "-G_Doc0oUVtK",
        "outputId": "df0c3344-ead0-4cdf-f6c9-723c068ccb58"
      },
      "execution_count": null,
      "outputs": [
        {
          "output_type": "stream",
          "name": "stdout",
          "text": [
            "Cual es el total de su compra?180000\n",
            "El total a pagar es:  162000.0\n",
            "El descuento fue de:  18000.0\n"
          ]
        }
      ]
    },
    {
      "cell_type": "markdown",
      "source": [
        "#11."
      ],
      "metadata": {
        "id": "V4taGHxUZyfF"
      }
    },
    {
      "cell_type": "code",
      "source": [
        "nombre= input(\"Digita los nombres de la lista separados por comas: \")\n",
        "nombres = nombre.split(',')\n",
        "lis1 = [nombre for nombre in nombres]\n",
        "print(\"Esta es la lista de los que estan registrados: \", lis1)\n",
        "\n",
        "edad= input(\"Digita los nombres de la lista separados por comas: \")\n",
        "edades = nombre2.split(',')\n",
        "lis2 = [int(edad) for edad in edades]\n",
        "print(\"Esta es la lista de edades: \", lis2)\n",
        "\n",
        "def Mayores(lis1, lis2):\n",
        "  lista_mayores=[]\n",
        "\n",
        "  for i in range(len(lis1)):\n",
        "    if lis2[i]>=60:\n",
        "      lista_mayores.append(lis1[i])\n",
        "  return lista_mayores\n",
        "\n",
        "\n",
        "print(\"Pacientes que requieren atención prioritaria:\", Mayores(lis1, lis2))"
      ],
      "metadata": {
        "colab": {
          "base_uri": "https://localhost:8080/"
        },
        "id": "bt2YqgMmWqAi",
        "outputId": "fb7e8e80-84d7-44e1-8901-056f40cdb1b1"
      },
      "execution_count": null,
      "outputs": [
        {
          "output_type": "stream",
          "name": "stdout",
          "text": [
            "Digita los nombres de la lista separados por comas: Juan, Ernesto\n",
            "Esta es la lista de los que estan registrados:  ['Juan', ' Ernesto']\n",
            "Digita los nombres de la lista separados por comas: 23,78\n",
            "Esta es la lista de edades:  [23, 78]\n",
            "Pacientes que requieren atención prioritaria: [' Ernesto']\n"
          ]
        }
      ]
    },
    {
      "cell_type": "markdown",
      "source": [
        "#12."
      ],
      "metadata": {
        "id": "0UJTLQCxWnUR"
      }
    },
    {
      "cell_type": "code",
      "source": [
        "def calcular_gastos_mensuales(alquiler, comida, transporte, otros):\n",
        "    total_gastos = alquiler + comida + transporte + otros\n",
        "\n",
        "    max_gasto = max(alquiler, comida, transporte, otros)\n",
        "    if max_gasto == alquiler:\n",
        "        categoria_max_gasto = \"alquiler\"\n",
        "    elif max_gasto == comida:\n",
        "        categoria_max_gasto = \"comida\"\n",
        "    elif max_gasto == transporte:\n",
        "        categoria_max_gasto = \"transporte\"\n",
        "    else:\n",
        "        categoria_max_gasto = \"otros\"\n",
        "    return total_gastos, categoria_max_gasto, max_gasto\n",
        "\n",
        "alquiler = float(input(\"Ingrese el gasto mensual en alquiler: \"))\n",
        "comida = float(input(\"Ingrese el gasto mensual en comida: \"))\n",
        "transporte = float(input(\"Ingrese el gasto mensual en transporte: \"))\n",
        "otros = float(input(\"Ingrese el gasto mensual en otros: \"))\n",
        "\n",
        "total_gastos, categoria_max_gasto, max_gasto = calcular_gastos_mensuales(alquiler, comida, transporte, otros)\n",
        "\n",
        "print(f\"\\nTotal de gastos mensuales: {total_gastos}\")\n",
        "print(f\"El gasto más alto fue en {categoria_max_gasto} con un total de {max_gasto}\")"
      ],
      "metadata": {
        "id": "_d-3l8EzWpd4",
        "colab": {
          "base_uri": "https://localhost:8080/"
        },
        "outputId": "d5539074-0458-4159-dd7d-a317266acf1d"
      },
      "execution_count": null,
      "outputs": [
        {
          "output_type": "stream",
          "name": "stdout",
          "text": [
            "Ingrese el gasto mensual en alquiler: 2000000\n",
            "Ingrese el gasto mensual en comida: 500000\n",
            "Ingrese el gasto mensual en transporte: 400000\n",
            "Ingrese el gasto mensual en otros: 300000\n",
            "\n",
            "Total de gastos mensuales: 3200000.0\n",
            "El gasto más alto fue en alquiler con un total de 2000000.0\n"
          ]
        }
      ]
    },
    {
      "cell_type": "markdown",
      "source": [
        "#13."
      ],
      "metadata": {
        "id": "cT1ApKaFZlaf"
      }
    },
    {
      "cell_type": "code",
      "source": [
        "nombre= input(\"Digita los nombres de la lista separados por comas: \")\n",
        "nombres = nombre.split(',')\n",
        "lis1 = [nombre for nombre in nombres]\n",
        "print(\"Esta es la lista de los que estan registrados: \", lis1)\n",
        "\n",
        "nombre2= input(\"Digita los nombres de la lista separados por comas: \")\n",
        "nombres2 = nombre2.split(',')\n",
        "lis2 = [nombre2 for nombre2 in nombres2]\n",
        "print(\"Esta es la lista de los que asistieron: \", lis2)\n",
        "\n",
        "def Noassitieron(lis1, lis2):\n",
        "  lista_noasist=[]\n",
        "\n",
        "  for i in lis1:\n",
        "    if i not in lis2:\n",
        "      lista_noasist.append(i)\n",
        "  return lista_noasist\n",
        "\n",
        "print(\"Estos son los que no asistieron: \", Noassitieron(lis1, lis2))\n",
        "\n"
      ],
      "metadata": {
        "colab": {
          "base_uri": "https://localhost:8080/"
        },
        "id": "faVzeuoAQlnr",
        "outputId": "5f6968a4-07f1-4b19-d508-7268534596e3"
      },
      "execution_count": null,
      "outputs": [
        {
          "output_type": "stream",
          "name": "stdout",
          "text": [
            "Digita los nombres de la lista separados por comas: Juan,Maria,Marcela,Sofia\n",
            "Esta es la lista de los que estan registrados:  ['Juan', 'Maria', 'Marcela', 'Sofia']\n",
            "Digita los nombres de la lista separados por comas: Juan,Marcela\n",
            "Esta es la lista de los que asistieron:  ['Juan', 'Marcela']\n",
            "Estos son los que no asistieron:  ['Maria', 'Sofia']\n"
          ]
        }
      ]
    },
    {
      "cell_type": "markdown",
      "source": [
        "#14."
      ],
      "metadata": {
        "id": "ITyxJYF3WwM8"
      }
    },
    {
      "cell_type": "code",
      "source": [
        "import numpy as np\n",
        "\n",
        "print(\"Recomendación de ejercicio diario\\n\")\n",
        "def recomendacion_ejercicio(minutos):\n",
        "\n",
        "    print(f\"Hiciste un promedio de: {minutos}\")\n",
        "    if minutos > 60:\n",
        "        return \"Excelente, estás en forma\"\n",
        "    elif minutos >= 30 and minutos <= 60:\n",
        "        return \"Buen trabajo, pero puedes mejorar\"\n",
        "    else:\n",
        "        return \"Debes hacer más ejercicio\"\n",
        "\n",
        "for i in range(7):\n",
        "  dia = float(input(f\"Cantidad de minutos realizados en el dia {i+1}: \"))\n",
        "  lis= []\n",
        "  lis.append(dia)\n",
        "  minutos=np.mean(lis)\n",
        "\n",
        "\n",
        "respuesta = recomendacion_ejercicio(minutos)\n",
        "print(respuesta)"
      ],
      "metadata": {
        "colab": {
          "base_uri": "https://localhost:8080/"
        },
        "id": "B03EeJNcWxiK",
        "outputId": "17f49e0a-0897-42c7-c2a3-e8a2628087c1"
      },
      "execution_count": null,
      "outputs": [
        {
          "output_type": "stream",
          "name": "stdout",
          "text": [
            "Recomendación de ejercicio diario\n",
            "\n",
            "Cantidad de minutos realizados en el dia 1: 23\n",
            "Cantidad de minutos realizados en el dia 2: 56\n",
            "Cantidad de minutos realizados en el dia 3: 34\n",
            "Cantidad de minutos realizados en el dia 4: 24\n",
            "Cantidad de minutos realizados en el dia 5: 26\n",
            "Cantidad de minutos realizados en el dia 6: 45\n",
            "Cantidad de minutos realizados en el dia 7: 34\n",
            "Hiciste un promedio de: 34.0\n",
            "Buen trabajo, pero puedes mejorar\n"
          ]
        }
      ]
    }
  ]
}